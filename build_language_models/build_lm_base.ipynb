{
 "cells": [
  {
   "cell_type": "code",
   "execution_count": null,
   "metadata": {},
   "outputs": [],
   "source": [
    "from kenlm import Model as KenlmModel\n",
    "from pyctcdecode.language_model import load_unigram_set_from_arpa, _prepare_unigram_set\n",
    "import os"
   ]
  },
  {
   "cell_type": "code",
   "execution_count": null,
   "metadata": {},
   "outputs": [],
   "source": [
    "n = 4\n",
    "dataset_name = 'news_10_to_15'\n",
    "text_file_name = 'gw-10-15-news-processed'\n",
    "\n",
    "text_file_path = f'../text_data/{text_file_name}.txt'\n",
    "path_name = f'../language_models/{n}gram_{dataset_name}'\n",
    "if not os.path.exists(path_name):\n",
    "    os.mkdir(path_name)\n",
    "\n",
    "lm_name_arpa = f'{path_name}/ngram.arpa'\n",
    "lm_name_bin = f'{path_name}/ngram.bin'"
   ]
  },
  {
   "cell_type": "code",
   "execution_count": null,
   "metadata": {},
   "outputs": [],
   "source": [
    "# Construct an n-gram model from .txt file\n",
    "n = n\n",
    "text_file_path = text_file_path\n",
    "lm_name_arpa = lm_name_arpa\n",
    "\n",
    "!../kenlm/build/bin/lmplz -o {n} <{text_file_path} > {lm_name_arpa}\n",
    "\n",
    "# Inspect the model\n",
    "!head -20 {lm_name_arpa}"
   ]
  },
  {
   "cell_type": "code",
   "execution_count": null,
   "metadata": {},
   "outputs": [],
   "source": [
    "# Construct a unigram file from n-gram model (needed for binary file)\n",
    "kenlm_model = KenlmModel(lm_name_arpa)\n",
    "\n",
    "unigrams = load_unigram_set_from_arpa(lm_name_arpa)\n",
    "unigram_set = _prepare_unigram_set(unigrams, kenlm_model)\n",
    "unigrams_path = f'{path_name}/unigrams.txt'\n",
    "\n",
    "with open(unigrams_path, \"w\") as fi:\n",
    "    for unigram in sorted(unigram_set):\n",
    "        fi.write(unigram + \"\\n\")"
   ]
  },
  {
   "cell_type": "code",
   "execution_count": null,
   "metadata": {},
   "outputs": [],
   "source": [
    "# Convert the n-gram to binary file to reduce the size\n",
    "lm_name_arpa = lm_name_arpa\n",
    "lm_name_bin = lm_name_bin\n",
    "\n",
    "!../kenlm/build/bin/build_binary {lm_name_arpa} {lm_name_bin}"
   ]
  },
  {
   "cell_type": "code",
   "execution_count": null,
   "metadata": {},
   "outputs": [],
   "source": [
    "# Remove the arpa file\n",
    "lm_name_arpa = lm_name_arpa\n",
    "!rm {lm_name_arpa}\n"
   ]
  }
 ],
 "metadata": {
  "interpreter": {
   "hash": "d4d1e4263499bec80672ea0156c357c1ee493ec2b1c70f0acce89fc37c4a6abe"
  },
  "kernelspec": {
   "display_name": "Python 3.7.12 ('base')",
   "language": "python",
   "name": "python3"
  },
  "language_info": {
   "codemirror_mode": {
    "name": "ipython",
    "version": 3
   },
   "file_extension": ".py",
   "mimetype": "text/x-python",
   "name": "python",
   "nbconvert_exporter": "python",
   "pygments_lexer": "ipython3",
   "version": "3.7.12"
  },
  "orig_nbformat": 4
 },
 "nbformat": 4,
 "nbformat_minor": 2
}
