{
 "cells": [
  {
   "cell_type": "code",
   "execution_count": null,
   "metadata": {},
   "outputs": [],
   "source": [
    "import sys\n",
    "sys.path.append('../')\n",
    "from constants import *\n",
    "import re"
   ]
  },
  {
   "cell_type": "code",
   "execution_count": null,
   "metadata": {},
   "outputs": [],
   "source": [
    "dataset_name = 'gw-10-15-news'\n",
    "\n",
    "text_file_name_orig = f'../korp/{dataset_name}.txt'"
   ]
  },
  {
   "cell_type": "code",
   "execution_count": null,
   "metadata": {},
   "outputs": [],
   "source": [
    "# Process the dataset without uppercasing, to keep casing for NER\n",
    "chars_to_ignore_regex = r'[,?.!\\-;:\"“]'\n",
    "\n",
    "\n",
    "def remove_unwanted_chars(string):\n",
    "    string = re.sub(REMOVE_BOLD, '', string)\n",
    "    string = re.sub(chars_to_ignore_regex, '', string)\n",
    "    return ' '.join(re.sub(CHARS_TO_BLANK, ' ', string).split())"
   ]
  },
  {
   "cell_type": "code",
   "execution_count": null,
   "metadata": {},
   "outputs": [],
   "source": [
    "with open(text_file_name_orig) as f:\n",
    "    all_text = f.readlines()\n",
    "\n",
    "all_text =  [remove_unwanted_chars(x) for x in all_text]\n",
    "\n",
    "print(len(all_text))\n",
    "print(all_text[0:2])"
   ]
  },
  {
   "cell_type": "code",
   "execution_count": null,
   "metadata": {},
   "outputs": [],
   "source": [
    "start_token = 40_000_000\n",
    "end_token = 60_000_000\n",
    "current_token = 0\n",
    "num_tokens_added = 0\n",
    "processed_text = []\n",
    "\n",
    "for sentence in all_text:\n",
    "    num_tokens_in_sentence = len(sentence.split())\n",
    "    current_token += num_tokens_in_sentence\n",
    "\n",
    "    if current_token < start_token:\n",
    "        continue\n",
    "    if current_token > end_token:\n",
    "        break\n",
    "    if num_tokens_in_sentence > 0:\n",
    "        num_tokens_added += num_tokens_in_sentence\n",
    "        processed_text.append(sentence)\n",
    "\n",
    "\n",
    "print(num_tokens_added)\n",
    "print(len(processed_text))"
   ]
  },
  {
   "cell_type": "code",
   "execution_count": null,
   "metadata": {},
   "outputs": [],
   "source": [
    "text_file_name_processed = f'../text_data/{dataset_name}-cased-20m.txt'\n",
    "\n",
    "with open(text_file_name_processed, 'w') as file:\n",
    "    file.write('\\n'.join(processed_text))"
   ]
  }
 ],
 "metadata": {
  "interpreter": {
   "hash": "d4d1e4263499bec80672ea0156c357c1ee493ec2b1c70f0acce89fc37c4a6abe"
  },
  "kernelspec": {
   "display_name": "Python 3.7.12 ('base')",
   "language": "python",
   "name": "python3"
  },
  "language_info": {
   "codemirror_mode": {
    "name": "ipython",
    "version": 3
   },
   "file_extension": ".py",
   "mimetype": "text/x-python",
   "name": "python",
   "nbconvert_exporter": "python",
   "pygments_lexer": "ipython3",
   "version": "3.7.12"
  },
  "orig_nbformat": 4
 },
 "nbformat": 4,
 "nbformat_minor": 2
}
